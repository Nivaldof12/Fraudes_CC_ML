{
  "nbformat": 4,
  "nbformat_minor": 0,
  "metadata": {
    "colab": {
      "name": "Projeto Previsão de Fraudes em Cartão de Crédito.ipynb",
      "provenance": [],
      "collapsed_sections": []
    },
    "kernelspec": {
      "name": "python3",
      "display_name": "Python 3"
    },
    "language_info": {
      "name": "python"
    },
    "widgets": {
      "application/vnd.jupyter.widget-state+json": {
        "d941049a714b4a1381a8ba9b24e774f3": {
          "model_module": "@jupyter-widgets/controls",
          "model_name": "HBoxModel",
          "model_module_version": "1.5.0",
          "state": {
            "_dom_classes": [],
            "_model_module": "@jupyter-widgets/controls",
            "_model_module_version": "1.5.0",
            "_model_name": "HBoxModel",
            "_view_count": null,
            "_view_module": "@jupyter-widgets/controls",
            "_view_module_version": "1.5.0",
            "_view_name": "HBoxView",
            "box_style": "",
            "children": [
              "IPY_MODEL_c217934ba9ed44c9a5d47db98b9da5ae",
              "IPY_MODEL_86ec42b6e43044839b1999be63eb0381",
              "IPY_MODEL_11fea24acaad40369de487c9f33915ed"
            ],
            "layout": "IPY_MODEL_aca8c6e10eaa47c6a1e38eb7ce193ae9"
          }
        },
        "c217934ba9ed44c9a5d47db98b9da5ae": {
          "model_module": "@jupyter-widgets/controls",
          "model_name": "HTMLModel",
          "model_module_version": "1.5.0",
          "state": {
            "_dom_classes": [],
            "_model_module": "@jupyter-widgets/controls",
            "_model_module_version": "1.5.0",
            "_model_name": "HTMLModel",
            "_view_count": null,
            "_view_module": "@jupyter-widgets/controls",
            "_view_module_version": "1.5.0",
            "_view_name": "HTMLView",
            "description": "",
            "description_tooltip": null,
            "layout": "IPY_MODEL_5b46813a3a63472292be07c76ebdaf7c",
            "placeholder": "​",
            "style": "IPY_MODEL_b6acea51b1c24ea8b5fda55b13fa29c3",
            "value": "Done! Use &#x27;show&#x27; commands to display/save.   "
          }
        },
        "86ec42b6e43044839b1999be63eb0381": {
          "model_module": "@jupyter-widgets/controls",
          "model_name": "FloatProgressModel",
          "model_module_version": "1.5.0",
          "state": {
            "_dom_classes": [],
            "_model_module": "@jupyter-widgets/controls",
            "_model_module_version": "1.5.0",
            "_model_name": "FloatProgressModel",
            "_view_count": null,
            "_view_module": "@jupyter-widgets/controls",
            "_view_module_version": "1.5.0",
            "_view_name": "ProgressView",
            "bar_style": "success",
            "description": "",
            "description_tooltip": null,
            "layout": "IPY_MODEL_962ff7094de043458245530d4b548837",
            "max": 1,
            "min": 0,
            "orientation": "horizontal",
            "style": "IPY_MODEL_42b863c990dc400fa89838cbd61b46b1",
            "value": 1
          }
        },
        "11fea24acaad40369de487c9f33915ed": {
          "model_module": "@jupyter-widgets/controls",
          "model_name": "HTMLModel",
          "model_module_version": "1.5.0",
          "state": {
            "_dom_classes": [],
            "_model_module": "@jupyter-widgets/controls",
            "_model_module_version": "1.5.0",
            "_model_name": "HTMLModel",
            "_view_count": null,
            "_view_module": "@jupyter-widgets/controls",
            "_view_module_version": "1.5.0",
            "_view_name": "HTMLView",
            "description": "",
            "description_tooltip": null,
            "layout": "IPY_MODEL_75b370a1d2494c6f802c5ae35722d479",
            "placeholder": "​",
            "style": "IPY_MODEL_89ee5112d5b44d9fbf7a3d7df0c2b53a",
            "value": " [100%]   00:02 -&gt; (00:00 left)"
          }
        },
        "aca8c6e10eaa47c6a1e38eb7ce193ae9": {
          "model_module": "@jupyter-widgets/base",
          "model_name": "LayoutModel",
          "model_module_version": "1.2.0",
          "state": {
            "_model_module": "@jupyter-widgets/base",
            "_model_module_version": "1.2.0",
            "_model_name": "LayoutModel",
            "_view_count": null,
            "_view_module": "@jupyter-widgets/base",
            "_view_module_version": "1.2.0",
            "_view_name": "LayoutView",
            "align_content": null,
            "align_items": null,
            "align_self": null,
            "border": null,
            "bottom": null,
            "display": "inline-flex",
            "flex": null,
            "flex_flow": "row wrap",
            "grid_area": null,
            "grid_auto_columns": null,
            "grid_auto_flow": null,
            "grid_auto_rows": null,
            "grid_column": null,
            "grid_gap": null,
            "grid_row": null,
            "grid_template_areas": null,
            "grid_template_columns": null,
            "grid_template_rows": null,
            "height": null,
            "justify_content": null,
            "justify_items": null,
            "left": null,
            "margin": null,
            "max_height": null,
            "max_width": null,
            "min_height": null,
            "min_width": null,
            "object_fit": null,
            "object_position": null,
            "order": null,
            "overflow": null,
            "overflow_x": null,
            "overflow_y": null,
            "padding": null,
            "right": null,
            "top": null,
            "visibility": null,
            "width": "100%"
          }
        },
        "5b46813a3a63472292be07c76ebdaf7c": {
          "model_module": "@jupyter-widgets/base",
          "model_name": "LayoutModel",
          "model_module_version": "1.2.0",
          "state": {
            "_model_module": "@jupyter-widgets/base",
            "_model_module_version": "1.2.0",
            "_model_name": "LayoutModel",
            "_view_count": null,
            "_view_module": "@jupyter-widgets/base",
            "_view_module_version": "1.2.0",
            "_view_name": "LayoutView",
            "align_content": null,
            "align_items": null,
            "align_self": null,
            "border": null,
            "bottom": null,
            "display": null,
            "flex": null,
            "flex_flow": null,
            "grid_area": null,
            "grid_auto_columns": null,
            "grid_auto_flow": null,
            "grid_auto_rows": null,
            "grid_column": null,
            "grid_gap": null,
            "grid_row": null,
            "grid_template_areas": null,
            "grid_template_columns": null,
            "grid_template_rows": null,
            "height": null,
            "justify_content": null,
            "justify_items": null,
            "left": null,
            "margin": null,
            "max_height": null,
            "max_width": null,
            "min_height": null,
            "min_width": null,
            "object_fit": null,
            "object_position": null,
            "order": null,
            "overflow": null,
            "overflow_x": null,
            "overflow_y": null,
            "padding": null,
            "right": null,
            "top": null,
            "visibility": null,
            "width": null
          }
        },
        "b6acea51b1c24ea8b5fda55b13fa29c3": {
          "model_module": "@jupyter-widgets/controls",
          "model_name": "DescriptionStyleModel",
          "model_module_version": "1.5.0",
          "state": {
            "_model_module": "@jupyter-widgets/controls",
            "_model_module_version": "1.5.0",
            "_model_name": "DescriptionStyleModel",
            "_view_count": null,
            "_view_module": "@jupyter-widgets/base",
            "_view_module_version": "1.2.0",
            "_view_name": "StyleView",
            "description_width": ""
          }
        },
        "962ff7094de043458245530d4b548837": {
          "model_module": "@jupyter-widgets/base",
          "model_name": "LayoutModel",
          "model_module_version": "1.2.0",
          "state": {
            "_model_module": "@jupyter-widgets/base",
            "_model_module_version": "1.2.0",
            "_model_name": "LayoutModel",
            "_view_count": null,
            "_view_module": "@jupyter-widgets/base",
            "_view_module_version": "1.2.0",
            "_view_name": "LayoutView",
            "align_content": null,
            "align_items": null,
            "align_self": null,
            "border": null,
            "bottom": null,
            "display": null,
            "flex": "2",
            "flex_flow": null,
            "grid_area": null,
            "grid_auto_columns": null,
            "grid_auto_flow": null,
            "grid_auto_rows": null,
            "grid_column": null,
            "grid_gap": null,
            "grid_row": null,
            "grid_template_areas": null,
            "grid_template_columns": null,
            "grid_template_rows": null,
            "height": null,
            "justify_content": null,
            "justify_items": null,
            "left": null,
            "margin": null,
            "max_height": null,
            "max_width": null,
            "min_height": null,
            "min_width": null,
            "object_fit": null,
            "object_position": null,
            "order": null,
            "overflow": null,
            "overflow_x": null,
            "overflow_y": null,
            "padding": null,
            "right": null,
            "top": null,
            "visibility": null,
            "width": null
          }
        },
        "42b863c990dc400fa89838cbd61b46b1": {
          "model_module": "@jupyter-widgets/controls",
          "model_name": "ProgressStyleModel",
          "model_module_version": "1.5.0",
          "state": {
            "_model_module": "@jupyter-widgets/controls",
            "_model_module_version": "1.5.0",
            "_model_name": "ProgressStyleModel",
            "_view_count": null,
            "_view_module": "@jupyter-widgets/base",
            "_view_module_version": "1.2.0",
            "_view_name": "StyleView",
            "bar_color": null,
            "description_width": ""
          }
        },
        "75b370a1d2494c6f802c5ae35722d479": {
          "model_module": "@jupyter-widgets/base",
          "model_name": "LayoutModel",
          "model_module_version": "1.2.0",
          "state": {
            "_model_module": "@jupyter-widgets/base",
            "_model_module_version": "1.2.0",
            "_model_name": "LayoutModel",
            "_view_count": null,
            "_view_module": "@jupyter-widgets/base",
            "_view_module_version": "1.2.0",
            "_view_name": "LayoutView",
            "align_content": null,
            "align_items": null,
            "align_self": null,
            "border": null,
            "bottom": null,
            "display": null,
            "flex": null,
            "flex_flow": null,
            "grid_area": null,
            "grid_auto_columns": null,
            "grid_auto_flow": null,
            "grid_auto_rows": null,
            "grid_column": null,
            "grid_gap": null,
            "grid_row": null,
            "grid_template_areas": null,
            "grid_template_columns": null,
            "grid_template_rows": null,
            "height": null,
            "justify_content": null,
            "justify_items": null,
            "left": null,
            "margin": null,
            "max_height": null,
            "max_width": null,
            "min_height": null,
            "min_width": null,
            "object_fit": null,
            "object_position": null,
            "order": null,
            "overflow": null,
            "overflow_x": null,
            "overflow_y": null,
            "padding": null,
            "right": null,
            "top": null,
            "visibility": null,
            "width": null
          }
        },
        "89ee5112d5b44d9fbf7a3d7df0c2b53a": {
          "model_module": "@jupyter-widgets/controls",
          "model_name": "DescriptionStyleModel",
          "model_module_version": "1.5.0",
          "state": {
            "_model_module": "@jupyter-widgets/controls",
            "_model_module_version": "1.5.0",
            "_model_name": "DescriptionStyleModel",
            "_view_count": null,
            "_view_module": "@jupyter-widgets/base",
            "_view_module_version": "1.2.0",
            "_view_name": "StyleView",
            "description_width": ""
          }
        }
      }
    }
  },
  "cells": [
    {
      "cell_type": "markdown",
      "metadata": {
        "id": "VYw2mDBxPQdj"
      },
      "source": [
        "# ✨ **Previsão de Fraudes em Cartão de Crédito**\n",
        "Projeto de um problema de classificação com Machine Learning em dados desbalanceados."
      ]
    },
    {
      "cell_type": "markdown",
      "source": [
        "## ◽ **O Problema** \n",
        "\n",
        "Fraudes em cartões de créditos é um dos principais problemas que instituições oferecedoras de crédito tem. Tais fraudes causam muitos prejuízos para as operadoras, e em uma escala muito alta! Precisamos de uma solução para identificar de antemão quem são esses fraudadores!"
      ],
      "metadata": {
        "id": "SeiWag_XuuSJ"
      }
    },
    {
      "cell_type": "markdown",
      "source": [
        "## ◽ **O Objetivo** \n",
        "Propor um modelo para prever fraudes na passagem de um cartão de crédito. Esse modelo deve levar em consideração o contexto de negócio das operadoras de cartão. "
      ],
      "metadata": {
        "id": "NN5UujMMytxV"
      }
    },
    {
      "cell_type": "markdown",
      "source": [
        "## ◽ **As Etapas do Projeto** \n",
        "## 1. Obtenção e Importação dos Dados\n",
        "## 2. Análise Exploratória dos Dados\n",
        "## 3. Pré-processamento dos Dados\n",
        "## 4. Processo de Modelagem\n",
        "## 5. Considerações Finais"
      ],
      "metadata": {
        "id": "nd3dy8XVu5fo"
      }
    },
    {
      "cell_type": "markdown",
      "metadata": {
        "id": "s46mBa_Su_XH"
      },
      "source": [
        "---\n",
        "# ◾ **Etapa 1.** Obtenção e Importação dos Dados"
      ]
    },
    {
      "cell_type": "markdown",
      "source": [
        "Origem dos dados:\n",
        "\n",
        "https://www.kaggle.com/mlg-ulb/creditcardfraud"
      ],
      "metadata": {
        "id": "oFaQEFr96WAB"
      }
    },
    {
      "cell_type": "markdown",
      "source": [
        "## ◽ **Importação dos Dados** "
      ],
      "metadata": {
        "id": "vZLjXq8uvJCW"
      }
    },
    {
      "cell_type": "code",
      "source": [
        "# Permitir o Google Colab utilizar arquivos do Google Drive\n",
        "\n",
        "import pandas as pd\n",
        "from google.colab import drive\n",
        "drive.mount('/content/drive')"
      ],
      "metadata": {
        "colab": {
          "base_uri": "https://localhost:8080/"
        },
        "id": "e6fGjC7d_fWG",
        "outputId": "cadba8b5-800b-4949-b08c-5b8b2e91dd16"
      },
      "execution_count": null,
      "outputs": [
        {
          "output_type": "stream",
          "name": "stdout",
          "text": [
            "Drive already mounted at /content/drive; to attempt to forcibly remount, call drive.mount(\"/content/drive\", force_remount=True).\n"
          ]
        }
      ]
    },
    {
      "cell_type": "code",
      "metadata": {
        "colab": {
          "base_uri": "https://localhost:8080/",
          "height": 456
        },
        "id": "4yPcXxB_Pokf",
        "outputId": "0261996e-d3b5-439d-e6e6-f56d2b140ead"
      },
      "source": [
        "# importação dos dados direto do site da UCI\n",
        "import pandas as pd\n",
        "\n",
        "caminho = '/content/drive/MyDrive/creditcard.csv' \n",
        "dados = pd.read_csv(caminho)  \n",
        "dados.sample(10)"
      ],
      "execution_count": null,
      "outputs": [
        {
          "output_type": "execute_result",
          "data": {
            "text/plain": [
              "            Time        V1        V2        V3        V4        V5        V6  \\\n",
              "9318     13497.0  1.099169 -0.126592  0.917145  1.583308 -0.429145  0.797578   \n",
              "252255  155724.0 -4.374571 -2.673820  0.675464 -2.680583  0.315281  0.627613   \n",
              "159333  112407.0  2.024674 -0.191502 -1.438414  0.087709  0.130037 -0.579981   \n",
              "74438    55583.0 -1.581218 -0.138202  1.913487 -0.570105  1.825186  0.515641   \n",
              "53326    45923.0 -0.219823  1.473486  0.027202  0.994369  0.181613 -0.880704   \n",
              "208490  137145.0  2.001025  0.154914 -1.742238  1.186298  0.679560 -0.592224   \n",
              "126638   78043.0 -0.810442  0.406997  2.597398 -1.921959 -0.507508 -0.471163   \n",
              "8971     12388.0  1.232283 -0.200005  0.527457  0.217384 -0.576257 -0.225774   \n",
              "46128    42648.0 -0.384606 -0.806034  1.907147 -2.694972 -0.505327 -0.131972   \n",
              "177250  123100.0 -2.779551  0.203259 -3.155954 -2.913320  2.721824  2.327317   \n",
              "\n",
              "              V7        V8        V9  ...       V21       V22       V23  \\\n",
              "9318   -0.717981  0.371159  2.213973  ... -0.227569 -0.165969 -0.089100   \n",
              "252255 -0.885329  1.494150  1.584062  ...  0.280206  1.037305  0.957341   \n",
              "159333 -0.050616 -0.041775  0.709099  ...  0.308707  0.936002  0.032156   \n",
              "74438  -0.026717  0.564819 -0.579006  ... -0.009180 -0.270356  0.121380   \n",
              "53326   0.668591  0.205836 -0.910022  ...  0.239065  0.875860  0.121574   \n",
              "208490  0.547388 -0.253473 -0.043929  ...  0.080413  0.416576 -0.070467   \n",
              "126638  0.380294  0.034258  1.460400  ... -0.020494  0.391179 -0.325691   \n",
              "8971   -0.457129  0.007253  1.973798  ... -0.243223 -0.299673 -0.094938   \n",
              "46128  -0.563678 -0.007920 -2.075212  ... -0.020559  0.301391 -0.284782   \n",
              "177250 -0.398472  1.719109 -1.713604  ... -0.202913 -0.105620  0.311066   \n",
              "\n",
              "             V24       V25       V26       V27       V28  Amount  Class  \n",
              "9318   -0.386758  0.538424 -0.287397  0.029218 -0.001305    9.00      0  \n",
              "252255 -0.381488  0.818313 -0.116001  0.513808 -1.056240   40.09      0  \n",
              "159333  0.688290  0.250408 -0.464958 -0.006561 -0.060239    1.00      0  \n",
              "74438  -0.974194 -0.028731  0.118319  0.021063  0.063596    5.92      0  \n",
              "53326   0.449682 -0.761787 -0.407737  0.339857  0.170960    2.69      0  \n",
              "208490 -0.457912  0.481561 -0.483183 -0.019714 -0.074905   15.27      0  \n",
              "126638  0.397174  0.411786 -0.774331  0.204102 -0.086328    1.00      0  \n",
              "8971    0.011811  0.399657  1.079136 -0.105266 -0.021092   12.18      0  \n",
              "46128  -0.544934 -0.000174 -0.248319 -0.064888 -0.126633   12.00      0  \n",
              "177250  0.689302  0.367871 -0.400132 -0.279997 -0.143318    3.00      0  \n",
              "\n",
              "[10 rows x 31 columns]"
            ],
            "text/html": [
              "\n",
              "  <div id=\"df-f6d59c93-59ad-4fee-bd5f-5b63d084dfee\">\n",
              "    <div class=\"colab-df-container\">\n",
              "      <div>\n",
              "<style scoped>\n",
              "    .dataframe tbody tr th:only-of-type {\n",
              "        vertical-align: middle;\n",
              "    }\n",
              "\n",
              "    .dataframe tbody tr th {\n",
              "        vertical-align: top;\n",
              "    }\n",
              "\n",
              "    .dataframe thead th {\n",
              "        text-align: right;\n",
              "    }\n",
              "</style>\n",
              "<table border=\"1\" class=\"dataframe\">\n",
              "  <thead>\n",
              "    <tr style=\"text-align: right;\">\n",
              "      <th></th>\n",
              "      <th>Time</th>\n",
              "      <th>V1</th>\n",
              "      <th>V2</th>\n",
              "      <th>V3</th>\n",
              "      <th>V4</th>\n",
              "      <th>V5</th>\n",
              "      <th>V6</th>\n",
              "      <th>V7</th>\n",
              "      <th>V8</th>\n",
              "      <th>V9</th>\n",
              "      <th>...</th>\n",
              "      <th>V21</th>\n",
              "      <th>V22</th>\n",
              "      <th>V23</th>\n",
              "      <th>V24</th>\n",
              "      <th>V25</th>\n",
              "      <th>V26</th>\n",
              "      <th>V27</th>\n",
              "      <th>V28</th>\n",
              "      <th>Amount</th>\n",
              "      <th>Class</th>\n",
              "    </tr>\n",
              "  </thead>\n",
              "  <tbody>\n",
              "    <tr>\n",
              "      <th>9318</th>\n",
              "      <td>13497.0</td>\n",
              "      <td>1.099169</td>\n",
              "      <td>-0.126592</td>\n",
              "      <td>0.917145</td>\n",
              "      <td>1.583308</td>\n",
              "      <td>-0.429145</td>\n",
              "      <td>0.797578</td>\n",
              "      <td>-0.717981</td>\n",
              "      <td>0.371159</td>\n",
              "      <td>2.213973</td>\n",
              "      <td>...</td>\n",
              "      <td>-0.227569</td>\n",
              "      <td>-0.165969</td>\n",
              "      <td>-0.089100</td>\n",
              "      <td>-0.386758</td>\n",
              "      <td>0.538424</td>\n",
              "      <td>-0.287397</td>\n",
              "      <td>0.029218</td>\n",
              "      <td>-0.001305</td>\n",
              "      <td>9.00</td>\n",
              "      <td>0</td>\n",
              "    </tr>\n",
              "    <tr>\n",
              "      <th>252255</th>\n",
              "      <td>155724.0</td>\n",
              "      <td>-4.374571</td>\n",
              "      <td>-2.673820</td>\n",
              "      <td>0.675464</td>\n",
              "      <td>-2.680583</td>\n",
              "      <td>0.315281</td>\n",
              "      <td>0.627613</td>\n",
              "      <td>-0.885329</td>\n",
              "      <td>1.494150</td>\n",
              "      <td>1.584062</td>\n",
              "      <td>...</td>\n",
              "      <td>0.280206</td>\n",
              "      <td>1.037305</td>\n",
              "      <td>0.957341</td>\n",
              "      <td>-0.381488</td>\n",
              "      <td>0.818313</td>\n",
              "      <td>-0.116001</td>\n",
              "      <td>0.513808</td>\n",
              "      <td>-1.056240</td>\n",
              "      <td>40.09</td>\n",
              "      <td>0</td>\n",
              "    </tr>\n",
              "    <tr>\n",
              "      <th>159333</th>\n",
              "      <td>112407.0</td>\n",
              "      <td>2.024674</td>\n",
              "      <td>-0.191502</td>\n",
              "      <td>-1.438414</td>\n",
              "      <td>0.087709</td>\n",
              "      <td>0.130037</td>\n",
              "      <td>-0.579981</td>\n",
              "      <td>-0.050616</td>\n",
              "      <td>-0.041775</td>\n",
              "      <td>0.709099</td>\n",
              "      <td>...</td>\n",
              "      <td>0.308707</td>\n",
              "      <td>0.936002</td>\n",
              "      <td>0.032156</td>\n",
              "      <td>0.688290</td>\n",
              "      <td>0.250408</td>\n",
              "      <td>-0.464958</td>\n",
              "      <td>-0.006561</td>\n",
              "      <td>-0.060239</td>\n",
              "      <td>1.00</td>\n",
              "      <td>0</td>\n",
              "    </tr>\n",
              "    <tr>\n",
              "      <th>74438</th>\n",
              "      <td>55583.0</td>\n",
              "      <td>-1.581218</td>\n",
              "      <td>-0.138202</td>\n",
              "      <td>1.913487</td>\n",
              "      <td>-0.570105</td>\n",
              "      <td>1.825186</td>\n",
              "      <td>0.515641</td>\n",
              "      <td>-0.026717</td>\n",
              "      <td>0.564819</td>\n",
              "      <td>-0.579006</td>\n",
              "      <td>...</td>\n",
              "      <td>-0.009180</td>\n",
              "      <td>-0.270356</td>\n",
              "      <td>0.121380</td>\n",
              "      <td>-0.974194</td>\n",
              "      <td>-0.028731</td>\n",
              "      <td>0.118319</td>\n",
              "      <td>0.021063</td>\n",
              "      <td>0.063596</td>\n",
              "      <td>5.92</td>\n",
              "      <td>0</td>\n",
              "    </tr>\n",
              "    <tr>\n",
              "      <th>53326</th>\n",
              "      <td>45923.0</td>\n",
              "      <td>-0.219823</td>\n",
              "      <td>1.473486</td>\n",
              "      <td>0.027202</td>\n",
              "      <td>0.994369</td>\n",
              "      <td>0.181613</td>\n",
              "      <td>-0.880704</td>\n",
              "      <td>0.668591</td>\n",
              "      <td>0.205836</td>\n",
              "      <td>-0.910022</td>\n",
              "      <td>...</td>\n",
              "      <td>0.239065</td>\n",
              "      <td>0.875860</td>\n",
              "      <td>0.121574</td>\n",
              "      <td>0.449682</td>\n",
              "      <td>-0.761787</td>\n",
              "      <td>-0.407737</td>\n",
              "      <td>0.339857</td>\n",
              "      <td>0.170960</td>\n",
              "      <td>2.69</td>\n",
              "      <td>0</td>\n",
              "    </tr>\n",
              "    <tr>\n",
              "      <th>208490</th>\n",
              "      <td>137145.0</td>\n",
              "      <td>2.001025</td>\n",
              "      <td>0.154914</td>\n",
              "      <td>-1.742238</td>\n",
              "      <td>1.186298</td>\n",
              "      <td>0.679560</td>\n",
              "      <td>-0.592224</td>\n",
              "      <td>0.547388</td>\n",
              "      <td>-0.253473</td>\n",
              "      <td>-0.043929</td>\n",
              "      <td>...</td>\n",
              "      <td>0.080413</td>\n",
              "      <td>0.416576</td>\n",
              "      <td>-0.070467</td>\n",
              "      <td>-0.457912</td>\n",
              "      <td>0.481561</td>\n",
              "      <td>-0.483183</td>\n",
              "      <td>-0.019714</td>\n",
              "      <td>-0.074905</td>\n",
              "      <td>15.27</td>\n",
              "      <td>0</td>\n",
              "    </tr>\n",
              "    <tr>\n",
              "      <th>126638</th>\n",
              "      <td>78043.0</td>\n",
              "      <td>-0.810442</td>\n",
              "      <td>0.406997</td>\n",
              "      <td>2.597398</td>\n",
              "      <td>-1.921959</td>\n",
              "      <td>-0.507508</td>\n",
              "      <td>-0.471163</td>\n",
              "      <td>0.380294</td>\n",
              "      <td>0.034258</td>\n",
              "      <td>1.460400</td>\n",
              "      <td>...</td>\n",
              "      <td>-0.020494</td>\n",
              "      <td>0.391179</td>\n",
              "      <td>-0.325691</td>\n",
              "      <td>0.397174</td>\n",
              "      <td>0.411786</td>\n",
              "      <td>-0.774331</td>\n",
              "      <td>0.204102</td>\n",
              "      <td>-0.086328</td>\n",
              "      <td>1.00</td>\n",
              "      <td>0</td>\n",
              "    </tr>\n",
              "    <tr>\n",
              "      <th>8971</th>\n",
              "      <td>12388.0</td>\n",
              "      <td>1.232283</td>\n",
              "      <td>-0.200005</td>\n",
              "      <td>0.527457</td>\n",
              "      <td>0.217384</td>\n",
              "      <td>-0.576257</td>\n",
              "      <td>-0.225774</td>\n",
              "      <td>-0.457129</td>\n",
              "      <td>0.007253</td>\n",
              "      <td>1.973798</td>\n",
              "      <td>...</td>\n",
              "      <td>-0.243223</td>\n",
              "      <td>-0.299673</td>\n",
              "      <td>-0.094938</td>\n",
              "      <td>0.011811</td>\n",
              "      <td>0.399657</td>\n",
              "      <td>1.079136</td>\n",
              "      <td>-0.105266</td>\n",
              "      <td>-0.021092</td>\n",
              "      <td>12.18</td>\n",
              "      <td>0</td>\n",
              "    </tr>\n",
              "    <tr>\n",
              "      <th>46128</th>\n",
              "      <td>42648.0</td>\n",
              "      <td>-0.384606</td>\n",
              "      <td>-0.806034</td>\n",
              "      <td>1.907147</td>\n",
              "      <td>-2.694972</td>\n",
              "      <td>-0.505327</td>\n",
              "      <td>-0.131972</td>\n",
              "      <td>-0.563678</td>\n",
              "      <td>-0.007920</td>\n",
              "      <td>-2.075212</td>\n",
              "      <td>...</td>\n",
              "      <td>-0.020559</td>\n",
              "      <td>0.301391</td>\n",
              "      <td>-0.284782</td>\n",
              "      <td>-0.544934</td>\n",
              "      <td>-0.000174</td>\n",
              "      <td>-0.248319</td>\n",
              "      <td>-0.064888</td>\n",
              "      <td>-0.126633</td>\n",
              "      <td>12.00</td>\n",
              "      <td>0</td>\n",
              "    </tr>\n",
              "    <tr>\n",
              "      <th>177250</th>\n",
              "      <td>123100.0</td>\n",
              "      <td>-2.779551</td>\n",
              "      <td>0.203259</td>\n",
              "      <td>-3.155954</td>\n",
              "      <td>-2.913320</td>\n",
              "      <td>2.721824</td>\n",
              "      <td>2.327317</td>\n",
              "      <td>-0.398472</td>\n",
              "      <td>1.719109</td>\n",
              "      <td>-1.713604</td>\n",
              "      <td>...</td>\n",
              "      <td>-0.202913</td>\n",
              "      <td>-0.105620</td>\n",
              "      <td>0.311066</td>\n",
              "      <td>0.689302</td>\n",
              "      <td>0.367871</td>\n",
              "      <td>-0.400132</td>\n",
              "      <td>-0.279997</td>\n",
              "      <td>-0.143318</td>\n",
              "      <td>3.00</td>\n",
              "      <td>0</td>\n",
              "    </tr>\n",
              "  </tbody>\n",
              "</table>\n",
              "<p>10 rows × 31 columns</p>\n",
              "</div>\n",
              "      <button class=\"colab-df-convert\" onclick=\"convertToInteractive('df-f6d59c93-59ad-4fee-bd5f-5b63d084dfee')\"\n",
              "              title=\"Convert this dataframe to an interactive table.\"\n",
              "              style=\"display:none;\">\n",
              "        \n",
              "  <svg xmlns=\"http://www.w3.org/2000/svg\" height=\"24px\"viewBox=\"0 0 24 24\"\n",
              "       width=\"24px\">\n",
              "    <path d=\"M0 0h24v24H0V0z\" fill=\"none\"/>\n",
              "    <path d=\"M18.56 5.44l.94 2.06.94-2.06 2.06-.94-2.06-.94-.94-2.06-.94 2.06-2.06.94zm-11 1L8.5 8.5l.94-2.06 2.06-.94-2.06-.94L8.5 2.5l-.94 2.06-2.06.94zm10 10l.94 2.06.94-2.06 2.06-.94-2.06-.94-.94-2.06-.94 2.06-2.06.94z\"/><path d=\"M17.41 7.96l-1.37-1.37c-.4-.4-.92-.59-1.43-.59-.52 0-1.04.2-1.43.59L10.3 9.45l-7.72 7.72c-.78.78-.78 2.05 0 2.83L4 21.41c.39.39.9.59 1.41.59.51 0 1.02-.2 1.41-.59l7.78-7.78 2.81-2.81c.8-.78.8-2.07 0-2.86zM5.41 20L4 18.59l7.72-7.72 1.47 1.35L5.41 20z\"/>\n",
              "  </svg>\n",
              "      </button>\n",
              "      \n",
              "  <style>\n",
              "    .colab-df-container {\n",
              "      display:flex;\n",
              "      flex-wrap:wrap;\n",
              "      gap: 12px;\n",
              "    }\n",
              "\n",
              "    .colab-df-convert {\n",
              "      background-color: #E8F0FE;\n",
              "      border: none;\n",
              "      border-radius: 50%;\n",
              "      cursor: pointer;\n",
              "      display: none;\n",
              "      fill: #1967D2;\n",
              "      height: 32px;\n",
              "      padding: 0 0 0 0;\n",
              "      width: 32px;\n",
              "    }\n",
              "\n",
              "    .colab-df-convert:hover {\n",
              "      background-color: #E2EBFA;\n",
              "      box-shadow: 0px 1px 2px rgba(60, 64, 67, 0.3), 0px 1px 3px 1px rgba(60, 64, 67, 0.15);\n",
              "      fill: #174EA6;\n",
              "    }\n",
              "\n",
              "    [theme=dark] .colab-df-convert {\n",
              "      background-color: #3B4455;\n",
              "      fill: #D2E3FC;\n",
              "    }\n",
              "\n",
              "    [theme=dark] .colab-df-convert:hover {\n",
              "      background-color: #434B5C;\n",
              "      box-shadow: 0px 1px 3px 1px rgba(0, 0, 0, 0.15);\n",
              "      filter: drop-shadow(0px 1px 2px rgba(0, 0, 0, 0.3));\n",
              "      fill: #FFFFFF;\n",
              "    }\n",
              "  </style>\n",
              "\n",
              "      <script>\n",
              "        const buttonEl =\n",
              "          document.querySelector('#df-f6d59c93-59ad-4fee-bd5f-5b63d084dfee button.colab-df-convert');\n",
              "        buttonEl.style.display =\n",
              "          google.colab.kernel.accessAllowed ? 'block' : 'none';\n",
              "\n",
              "        async function convertToInteractive(key) {\n",
              "          const element = document.querySelector('#df-f6d59c93-59ad-4fee-bd5f-5b63d084dfee');\n",
              "          const dataTable =\n",
              "            await google.colab.kernel.invokeFunction('convertToInteractive',\n",
              "                                                     [key], {});\n",
              "          if (!dataTable) return;\n",
              "\n",
              "          const docLinkHtml = 'Like what you see? Visit the ' +\n",
              "            '<a target=\"_blank\" href=https://colab.research.google.com/notebooks/data_table.ipynb>data table notebook</a>'\n",
              "            + ' to learn more about interactive tables.';\n",
              "          element.innerHTML = '';\n",
              "          dataTable['output_type'] = 'display_data';\n",
              "          await google.colab.output.renderOutput(dataTable, element);\n",
              "          const docLink = document.createElement('div');\n",
              "          docLink.innerHTML = docLinkHtml;\n",
              "          element.appendChild(docLink);\n",
              "        }\n",
              "      </script>\n",
              "    </div>\n",
              "  </div>\n",
              "  "
            ]
          },
          "metadata": {},
          "execution_count": 2
        }
      ]
    },
    {
      "cell_type": "code",
      "source": [
        "dados.info()"
      ],
      "metadata": {
        "colab": {
          "base_uri": "https://localhost:8080/"
        },
        "id": "sUMjWgAQ9K22",
        "outputId": "b5787647-70f9-477f-a4c5-7a9f62db32cf"
      },
      "execution_count": null,
      "outputs": [
        {
          "output_type": "stream",
          "name": "stdout",
          "text": [
            "<class 'pandas.core.frame.DataFrame'>\n",
            "RangeIndex: 284807 entries, 0 to 284806\n",
            "Data columns (total 31 columns):\n",
            " #   Column  Non-Null Count   Dtype  \n",
            "---  ------  --------------   -----  \n",
            " 0   Time    284807 non-null  float64\n",
            " 1   V1      284807 non-null  float64\n",
            " 2   V2      284807 non-null  float64\n",
            " 3   V3      284807 non-null  float64\n",
            " 4   V4      284807 non-null  float64\n",
            " 5   V5      284807 non-null  float64\n",
            " 6   V6      284807 non-null  float64\n",
            " 7   V7      284807 non-null  float64\n",
            " 8   V8      284807 non-null  float64\n",
            " 9   V9      284807 non-null  float64\n",
            " 10  V10     284807 non-null  float64\n",
            " 11  V11     284807 non-null  float64\n",
            " 12  V12     284807 non-null  float64\n",
            " 13  V13     284807 non-null  float64\n",
            " 14  V14     284807 non-null  float64\n",
            " 15  V15     284807 non-null  float64\n",
            " 16  V16     284807 non-null  float64\n",
            " 17  V17     284807 non-null  float64\n",
            " 18  V18     284807 non-null  float64\n",
            " 19  V19     284807 non-null  float64\n",
            " 20  V20     284807 non-null  float64\n",
            " 21  V21     284807 non-null  float64\n",
            " 22  V22     284807 non-null  float64\n",
            " 23  V23     284807 non-null  float64\n",
            " 24  V24     284807 non-null  float64\n",
            " 25  V25     284807 non-null  float64\n",
            " 26  V26     284807 non-null  float64\n",
            " 27  V27     284807 non-null  float64\n",
            " 28  V28     284807 non-null  float64\n",
            " 29  Amount  284807 non-null  float64\n",
            " 30  Class   284807 non-null  int64  \n",
            "dtypes: float64(30), int64(1)\n",
            "memory usage: 67.4 MB\n"
          ]
        }
      ]
    },
    {
      "cell_type": "code",
      "source": [
        "dados.isnull().sum()"
      ],
      "metadata": {
        "colab": {
          "base_uri": "https://localhost:8080/"
        },
        "id": "wPZes5yY9dwi",
        "outputId": "e6d23124-1438-4942-83d4-ba399f99697d"
      },
      "execution_count": null,
      "outputs": [
        {
          "output_type": "execute_result",
          "data": {
            "text/plain": [
              "Time      0\n",
              "V1        0\n",
              "V2        0\n",
              "V3        0\n",
              "V4        0\n",
              "V5        0\n",
              "V6        0\n",
              "V7        0\n",
              "V8        0\n",
              "V9        0\n",
              "V10       0\n",
              "V11       0\n",
              "V12       0\n",
              "V13       0\n",
              "V14       0\n",
              "V15       0\n",
              "V16       0\n",
              "V17       0\n",
              "V18       0\n",
              "V19       0\n",
              "V20       0\n",
              "V21       0\n",
              "V22       0\n",
              "V23       0\n",
              "V24       0\n",
              "V25       0\n",
              "V26       0\n",
              "V27       0\n",
              "V28       0\n",
              "Amount    0\n",
              "Class     0\n",
              "dtype: int64"
            ]
          },
          "metadata": {},
          "execution_count": 209
        }
      ]
    },
    {
      "cell_type": "code",
      "metadata": {
        "colab": {
          "base_uri": "https://localhost:8080/"
        },
        "id": "SQKKs2VYYcwH",
        "outputId": "66e53e1c-52b0-4b88-dc00-5bcef80ef0f3"
      },
      "source": [
        "dados['Class'].value_counts()"
      ],
      "execution_count": null,
      "outputs": [
        {
          "output_type": "execute_result",
          "data": {
            "text/plain": [
              "0    284315\n",
              "1       492\n",
              "Name: Class, dtype: int64"
            ]
          },
          "metadata": {},
          "execution_count": 4
        }
      ]
    },
    {
      "cell_type": "code",
      "metadata": {
        "colab": {
          "base_uri": "https://localhost:8080/"
        },
        "id": "DsSlPX6zYi5a",
        "outputId": "65272c66-3e3f-4a81-d4ed-9fd43b8fb522"
      },
      "source": [
        "dados['Class'].value_counts()/dados.shape[0]"
      ],
      "execution_count": null,
      "outputs": [
        {
          "output_type": "execute_result",
          "data": {
            "text/plain": [
              "0    0.998273\n",
              "1    0.001727\n",
              "Name: Class, dtype: float64"
            ]
          },
          "metadata": {},
          "execution_count": 5
        }
      ]
    },
    {
      "cell_type": "code",
      "metadata": {
        "colab": {
          "base_uri": "https://localhost:8080/",
          "height": 279
        },
        "id": "1F5FcRakYONB",
        "outputId": "4ae69452-0bd4-4f1e-ce02-4f6779109710"
      },
      "source": [
        "import seaborn as sns\n",
        "\n",
        "sns.countplot(x = dados['Class']);"
      ],
      "execution_count": null,
      "outputs": [
        {
          "output_type": "display_data",
          "data": {
            "text/plain": [
              "<Figure size 432x288 with 1 Axes>"
            ],
            "image/png": "[encoded data removed]"
          },
          "metadata": {
            "needs_background": "light"
          }
        }
      ]
    },
    {
      "cell_type": "markdown",
      "metadata": {
        "id": "zAfr_safvQAm"
      },
      "source": [
        "---\n",
        "# ◾ **Etapa 2.** Análise Exploratória dos Dados"
      ]
    },
    {
      "cell_type": "code",
      "source": [
        "#sweetviz\n",
        "!pip install sweetviz \n",
        "import sweetviz as sv\n",
        "eda = sv.analyze(source = dados, target_feat = 'Class')\n",
        "eda.show_notebook()\n"
      ],
      "metadata": {
        "colab": {
          "base_uri": "https://localhost:8080/",
          "height": 1000,
          "referenced_widgets": [
            "d941049a714b4a1381a8ba9b24e774f3",
            "c217934ba9ed44c9a5d47db98b9da5ae",
            "86ec42b6e43044839b1999be63eb0381",
            "11fea24acaad40369de487c9f33915ed",
            "aca8c6e10eaa47c6a1e38eb7ce193ae9",
            "5b46813a3a63472292be07c76ebdaf7c",
            "b6acea51b1c24ea8b5fda55b13fa29c3",
            "962ff7094de043458245530d4b548837",
            "42b863c990dc400fa89838cbd61b46b1",
            "75b370a1d2494c6f802c5ae35722d479",
            "89ee5112d5b44d9fbf7a3d7df0c2b53a"
          ]
        },
        "id": "MyOA8F-aPTvM",
        "outputId": "3c3183fe-a2aa-4712-82fd-85764f8ef914"
      },
      "execution_count": null,
      "outputs": []
    },
    {
      "cell_type": "markdown",
      "metadata": {
        "id": "y6ki8QHnvQbW"
      },
      "source": [
        "---\n",
        "# ◾ **Etapa 3.** Pré-processamento dos Dados\n",
        "\n",
        "Vamos fazer uma modelagem utilizando **Árvores de Decisão**. \n",
        "\n",
        "Árvores são excelentes modelos para serem utilizados em uma primeira análise e começar a sentir o conjunto de dados. \n",
        "\n",
        "Uma árvore bem ajustada é um algoritmo que costuma oferecer boa performance preditiva.\n",
        "\n",
        "Além disso, as árvores são robustas em relação a escala das variáveis. \n",
        "\n",
        "Portanto, nesse momento, nenhum pré-processamento será feito. "
      ]
    },
    {
      "cell_type": "markdown",
      "metadata": {
        "id": "6Do50H2z9rwS"
      },
      "source": [
        "---\n",
        "# ◾ **Etapa 4.** Processo de Modelagem"
      ]
    },
    {
      "cell_type": "code",
      "execution_count": null,
      "metadata": {
        "id": "db158703"
      },
      "outputs": [],
      "source": [
        "from sklearn.model_selection import train_test_split\n",
        "\n",
        "X = dados.drop('Class', axis = 1)\n",
        "y = dados['Class']\n",
        "\n",
        "Xtreino, Xteste, ytreino, yteste = train_test_split(X, y, test_size = .2, stratify = y, random_state = 333)\n",
        "\n",
        "dadosTreino = pd.concat([Xtreino, ytreino], axis = 1)\n",
        "dadosTeste = pd.concat([Xteste, yteste], axis = 1)\n"
      ]
    },
    {
      "cell_type": "code",
      "source": [
        "import numpy as np\n",
        "\n",
        "from sklearn.metrics import accuracy_score, recall_score, precision_score, \\\n",
        "                             f1_score, roc_auc_score, confusion_matrix, \\\n",
        "                             classification_report\n",
        "\n",
        "from sklearn.tree import DecisionTreeClassifier \n",
        "from sklearn.model_selection import RandomizedSearchCV\n",
        "from sklearn.model_selection import RepeatedStratifiedKFold\n",
        "\n",
        "validacao = RepeatedStratifiedKFold(n_splits = 5, n_repeats = 1)"
      ],
      "metadata": {
        "id": "DDe-km3oQLz1"
      },
      "execution_count": null,
      "outputs": []
    },
    {
      "cell_type": "code",
      "source": [
        "def Modelagem(Treino, Teste, nome = 'experimento', iteracoes = 2):\n",
        "   \n",
        "    Xtreino = Treino.drop('Class', axis = 1)\n",
        "    ytreino = Treino['Class']    \n",
        "    \n",
        "    Xteste = Teste.drop('Class', axis = 1)\n",
        "    yteste = Teste['Class']\n",
        "\n",
        "    parametros = {  'criterion': ['gini', 'entropy'],\n",
        "                    'max_depth' :[2, 3, 4, 5, 6, 7, 8, 9, 10, 12],\n",
        "                    'min_samples_split': [10, 20, 30, 40, 50], \n",
        "                    }\n",
        "\n",
        "    modelo = DecisionTreeClassifier()\n",
        "\n",
        "    arvore = RandomizedSearchCV(modelo, \n",
        "                            param_distributions = parametros,\n",
        "                            scoring = 'f1', \n",
        "                            cv = validacao,\n",
        "                            n_iter = iteracoes, \n",
        "                            n_jobs = -1)\n",
        "\n",
        "\n",
        "    arvore.fit(Xtreino, ytreino)\n",
        "\n",
        "    predicoes = arvore.predict(Xteste)\n",
        "\n",
        "    acc = accuracy_score(predicoes, yteste)\n",
        "    sen = recall_score(predicoes, yteste)\n",
        "    pre = precision_score(predicoes, yteste)\n",
        "    f1s = f1_score(predicoes, yteste)\n",
        "    auc = roc_auc_score(predicoes, yteste)\n",
        "\n",
        "    medidas = {'Acurácia': [acc], 'Sensibilidade': [sen], 'Precisão': [pre], 'F1-Score': [f1s], 'AUC': [auc]}\n",
        "\n",
        "    print(classification_report(predicoes, yteste, digits = 4)[:220])\n",
        "\n",
        "    print('Matriz de Confusão:\\n\\n', confusion_matrix(predicoes, yteste))\n",
        "\n",
        "    return pd.DataFrame(medidas, index = [nome]).round(4), arvore"
      ],
      "metadata": {
        "id": "wzlZemeIhQOs"
      },
      "execution_count": null,
      "outputs": []
    },
    {
      "cell_type": "code",
      "source": [
        "arvore = Modelagem(dadosTreino, dadosTeste, 'Árvore Simples', 10)"
      ],
      "metadata": {
        "colab": {
          "base_uri": "https://localhost:8080/"
        },
        "id": "cKe9W8oCT3fw",
        "outputId": "9a3a4303-aa4c-4422-ba8c-5c5299adc883"
      },
      "execution_count": null,
      "outputs": [
        {
          "output_type": "stream",
          "name": "stdout",
          "text": [
            "              precision    recall  f1-score   support\n",
            "\n",
            "           0     0.9999    0.9995    0.9997     56885\n",
            "           1     0.7347    0.9351    0.8229        77\n",
            "\n",
            "    accuracy                         0.9995     56962\n",
            "  \n",
            "[[56859    26]\n",
            " [    5    72]]\n"
          ]
        }
      ]
    },
    {
      "cell_type": "code",
      "source": [
        "arvore[0]"
      ],
      "metadata": {
        "colab": {
          "base_uri": "https://localhost:8080/",
          "height": 81
        },
        "id": "XnioEKD3gAxw",
        "outputId": "84f91aa2-fdac-454c-94c5-eea43b5193d4"
      },
      "execution_count": null,
      "outputs": [
        {
          "output_type": "execute_result",
          "data": {
            "text/plain": [
              "         Acurácia  Sensibilidade  Precisão  F1-Score     AUC\n",
              "Diretão   0.99950        0.89530   0.78570   0.83700 0.94750"
            ],
            "text/html": [
              "\n",
              "  <div id=\"df-30543289-c0df-47cf-b541-b0aa1412ef3a\">\n",
              "    <div class=\"colab-df-container\">\n",
              "      <div>\n",
              "<style scoped>\n",
              "    .dataframe tbody tr th:only-of-type {\n",
              "        vertical-align: middle;\n",
              "    }\n",
              "\n",
              "    .dataframe tbody tr th {\n",
              "        vertical-align: top;\n",
              "    }\n",
              "\n",
              "    .dataframe thead th {\n",
              "        text-align: right;\n",
              "    }\n",
              "</style>\n",
              "<table border=\"1\" class=\"dataframe\">\n",
              "  <thead>\n",
              "    <tr style=\"text-align: right;\">\n",
              "      <th></th>\n",
              "      <th>Acurácia</th>\n",
              "      <th>Sensibilidade</th>\n",
              "      <th>Precisão</th>\n",
              "      <th>F1-Score</th>\n",
              "      <th>AUC</th>\n",
              "    </tr>\n",
              "  </thead>\n",
              "  <tbody>\n",
              "    <tr>\n",
              "      <th>Diretão</th>\n",
              "      <td>0.99950</td>\n",
              "      <td>0.89530</td>\n",
              "      <td>0.78570</td>\n",
              "      <td>0.83700</td>\n",
              "      <td>0.94750</td>\n",
              "    </tr>\n",
              "  </tbody>\n",
              "</table>\n",
              "</div>\n",
              "      <button class=\"colab-df-convert\" onclick=\"convertToInteractive('df-30543289-c0df-47cf-b541-b0aa1412ef3a')\"\n",
              "              title=\"Convert this dataframe to an interactive table.\"\n",
              "              style=\"display:none;\">\n",
              "        \n",
              "  <svg xmlns=\"http://www.w3.org/2000/svg\" height=\"24px\"viewBox=\"0 0 24 24\"\n",
              "       width=\"24px\">\n",
              "    <path d=\"M0 0h24v24H0V0z\" fill=\"none\"/>\n",
              "    <path d=\"M18.56 5.44l.94 2.06.94-2.06 2.06-.94-2.06-.94-.94-2.06-.94 2.06-2.06.94zm-11 1L8.5 8.5l.94-2.06 2.06-.94-2.06-.94L8.5 2.5l-.94 2.06-2.06.94zm10 10l.94 2.06.94-2.06 2.06-.94-2.06-.94-.94-2.06-.94 2.06-2.06.94z\"/><path d=\"M17.41 7.96l-1.37-1.37c-.4-.4-.92-.59-1.43-.59-.52 0-1.04.2-1.43.59L10.3 9.45l-7.72 7.72c-.78.78-.78 2.05 0 2.83L4 21.41c.39.39.9.59 1.41.59.51 0 1.02-.2 1.41-.59l7.78-7.78 2.81-2.81c.8-.78.8-2.07 0-2.86zM5.41 20L4 18.59l7.72-7.72 1.47 1.35L5.41 20z\"/>\n",
              "  </svg>\n",
              "      </button>\n",
              "      \n",
              "  <style>\n",
              "    .colab-df-container {\n",
              "      display:flex;\n",
              "      flex-wrap:wrap;\n",
              "      gap: 12px;\n",
              "    }\n",
              "\n",
              "    .colab-df-convert {\n",
              "      background-color: #E8F0FE;\n",
              "      border: none;\n",
              "      border-radius: 50%;\n",
              "      cursor: pointer;\n",
              "      display: none;\n",
              "      fill: #1967D2;\n",
              "      height: 32px;\n",
              "      padding: 0 0 0 0;\n",
              "      width: 32px;\n",
              "    }\n",
              "\n",
              "    .colab-df-convert:hover {\n",
              "      background-color: #E2EBFA;\n",
              "      box-shadow: 0px 1px 2px rgba(60, 64, 67, 0.3), 0px 1px 3px 1px rgba(60, 64, 67, 0.15);\n",
              "      fill: #174EA6;\n",
              "    }\n",
              "\n",
              "    [theme=dark] .colab-df-convert {\n",
              "      background-color: #3B4455;\n",
              "      fill: #D2E3FC;\n",
              "    }\n",
              "\n",
              "    [theme=dark] .colab-df-convert:hover {\n",
              "      background-color: #434B5C;\n",
              "      box-shadow: 0px 1px 3px 1px rgba(0, 0, 0, 0.15);\n",
              "      filter: drop-shadow(0px 1px 2px rgba(0, 0, 0, 0.3));\n",
              "      fill: #FFFFFF;\n",
              "    }\n",
              "  </style>\n",
              "\n",
              "      <script>\n",
              "        const buttonEl =\n",
              "          document.querySelector('#df-30543289-c0df-47cf-b541-b0aa1412ef3a button.colab-df-convert');\n",
              "        buttonEl.style.display =\n",
              "          google.colab.kernel.accessAllowed ? 'block' : 'none';\n",
              "\n",
              "        async function convertToInteractive(key) {\n",
              "          const element = document.querySelector('#df-30543289-c0df-47cf-b541-b0aa1412ef3a');\n",
              "          const dataTable =\n",
              "            await google.colab.kernel.invokeFunction('convertToInteractive',\n",
              "                                                     [key], {});\n",
              "          if (!dataTable) return;\n",
              "\n",
              "          const docLinkHtml = 'Like what you see? Visit the ' +\n",
              "            '<a target=\"_blank\" href=https://colab.research.google.com/notebooks/data_table.ipynb>data table notebook</a>'\n",
              "            + ' to learn more about interactive tables.';\n",
              "          element.innerHTML = '';\n",
              "          dataTable['output_type'] = 'display_data';\n",
              "          await google.colab.output.renderOutput(dataTable, element);\n",
              "          const docLink = document.createElement('div');\n",
              "          docLink.innerHTML = docLinkHtml;\n",
              "          element.appendChild(docLink);\n",
              "        }\n",
              "      </script>\n",
              "    </div>\n",
              "  </div>\n",
              "  "
            ]
          },
          "metadata": {},
          "execution_count": 215
        }
      ]
    },
    {
      "cell_type": "markdown",
      "source": [
        "## ◽ **Undersampling**"
      ],
      "metadata": {
        "id": "BPB11h_q9rYn"
      }
    },
    {
      "cell_type": "code",
      "source": [
        "def UnderSampling(dados, under = 1):\n",
        "    classe0 = dados[dados['Class'] == 0]\n",
        "    classe1 = dados[dados['Class'] == 1]  \n",
        "    \n",
        "    amostra0 = classe0.sample(under * classe1.shape[0])\n",
        "    under = pd.concat([amostra0, classe1])\n",
        "\n",
        "    return under"
      ],
      "metadata": {
        "id": "xPuTqGE4bC1A"
      },
      "execution_count": null,
      "outputs": []
    },
    {
      "cell_type": "code",
      "source": [
        "under1 = UnderSampling(dadosTreino, 1)  \n",
        "under1['Class'].value_counts()/under1.shape[0]"
      ],
      "metadata": {
        "colab": {
          "base_uri": "https://localhost:8080/"
        },
        "id": "N2Q5--A8bC3i",
        "outputId": "48a01fc1-afb8-45e9-d915-1acab250fc04"
      },
      "execution_count": null,
      "outputs": [
        {
          "output_type": "execute_result",
          "data": {
            "text/plain": [
              "0   0.50000\n",
              "1   0.50000\n",
              "Name: Class, dtype: float64"
            ]
          },
          "metadata": {},
          "execution_count": 217
        }
      ]
    },
    {
      "cell_type": "code",
      "source": [
        "u1 = Modelagem(under1, dadosTeste, 'UnderSampling 1:1', 10)"
      ],
      "metadata": {
        "colab": {
          "base_uri": "https://localhost:8080/"
        },
        "id": "BN1jG2mkXQmg",
        "outputId": "9865daea-c312-4107-a7c2-d690fa58d770"
      },
      "execution_count": null,
      "outputs": [
        {
          "output_type": "stream",
          "name": "stdout",
          "text": [
            "              precision    recall  f1-score   support\n",
            "\n",
            "           0     0.9779    0.9997    0.9887     55622\n",
            "           1     0.8571    0.0627    0.1168      1340\n",
            "\n",
            "    accuracy                         0.9777     56962\n",
            "  \n",
            "[[55608    14]\n",
            " [ 1256    84]]\n"
          ]
        }
      ]
    },
    {
      "cell_type": "code",
      "source": [
        "under2 = UnderSampling(dadosTreino, 3)  \n",
        "under2['Class'].value_counts()/under2.shape[0]"
      ],
      "metadata": {
        "colab": {
          "base_uri": "https://localhost:8080/"
        },
        "id": "YIxgRHt_bC6P",
        "outputId": "3b57f686-b925-467f-cbe9-cda8445e9ec0"
      },
      "execution_count": null,
      "outputs": [
        {
          "output_type": "execute_result",
          "data": {
            "text/plain": [
              "0   0.75000\n",
              "1   0.25000\n",
              "Name: Class, dtype: float64"
            ]
          },
          "metadata": {},
          "execution_count": 219
        }
      ]
    },
    {
      "cell_type": "code",
      "source": [
        "u2 = Modelagem(under2, dadosTeste, 'UnderSampling 3:1', 10)"
      ],
      "metadata": {
        "colab": {
          "base_uri": "https://localhost:8080/"
        },
        "id": "0mp4wDbmXQpA",
        "outputId": "bf7c755c-fc67-49d2-9ced-5d83ce70b9a2"
      },
      "execution_count": null,
      "outputs": [
        {
          "output_type": "stream",
          "name": "stdout",
          "text": [
            "              precision    recall  f1-score   support\n",
            "\n",
            "           0     0.9595    0.9997    0.9792     54577\n",
            "           1     0.8265    0.0340    0.0652      2385\n",
            "\n",
            "    accuracy                         0.9593     56962\n",
            "  \n",
            "[[54560    17]\n",
            " [ 2304    81]]\n"
          ]
        }
      ]
    },
    {
      "cell_type": "code",
      "source": [
        "under3 = UnderSampling(dadosTreino, 9)  \n",
        "under3['Class'].value_counts()/under3.shape[0]"
      ],
      "metadata": {
        "colab": {
          "base_uri": "https://localhost:8080/"
        },
        "id": "SC2nVKh7bC9F",
        "outputId": "b5386119-3fc5-4de7-d918-954032ef726c"
      },
      "execution_count": null,
      "outputs": [
        {
          "output_type": "execute_result",
          "data": {
            "text/plain": [
              "0   0.90000\n",
              "1   0.10000\n",
              "Name: Class, dtype: float64"
            ]
          },
          "metadata": {},
          "execution_count": 221
        }
      ]
    },
    {
      "cell_type": "code",
      "source": [
        "u3 = Modelagem(under3, dadosTeste, 'UnderSampling 9:1', 10)"
      ],
      "metadata": {
        "colab": {
          "base_uri": "https://localhost:8080/"
        },
        "id": "sUusFXp8XQrP",
        "outputId": "599e4bfe-859b-4471-8c26-845bc29369da"
      },
      "execution_count": null,
      "outputs": [
        {
          "output_type": "stream",
          "name": "stdout",
          "text": [
            "              precision    recall  f1-score   support\n",
            "\n",
            "           0     0.9970    0.9996    0.9983     56713\n",
            "           1     0.7755    0.3052    0.4380       249\n",
            "\n",
            "    accuracy                         0.9966     56962\n",
            "  \n",
            "[[56691    22]\n",
            " [  173    76]]\n"
          ]
        }
      ]
    },
    {
      "cell_type": "code",
      "source": [
        "under4 = UnderSampling(dadosTreino, 99)  \n",
        "under4['Class'].value_counts()/under4.shape[0]"
      ],
      "metadata": {
        "colab": {
          "base_uri": "https://localhost:8080/"
        },
        "id": "RfAXyy0tjYZg",
        "outputId": "8ba5c370-b071-42b6-fdba-bcda65e898cc"
      },
      "execution_count": null,
      "outputs": [
        {
          "output_type": "execute_result",
          "data": {
            "text/plain": [
              "0   0.99000\n",
              "1   0.01000\n",
              "Name: Class, dtype: float64"
            ]
          },
          "metadata": {},
          "execution_count": 223
        }
      ]
    },
    {
      "cell_type": "code",
      "source": [
        "u4 = Modelagem(under4, dadosTeste, 'UnderSampling 99:1', 10)"
      ],
      "metadata": {
        "colab": {
          "base_uri": "https://localhost:8080/"
        },
        "id": "3Nlk2SokXQtp",
        "outputId": "da4e3d53-12c0-46af-b60b-39e9fe1c5af8"
      },
      "execution_count": null,
      "outputs": [
        {
          "output_type": "stream",
          "name": "stdout",
          "text": [
            "              precision    recall  f1-score   support\n",
            "\n",
            "           0     0.9993    0.9996    0.9995     56846\n",
            "           1     0.7755    0.6552    0.7103       116\n",
            "\n",
            "    accuracy                         0.9989     56962\n",
            "  \n",
            "[[56824    22]\n",
            " [   40    76]]\n"
          ]
        }
      ]
    },
    {
      "cell_type": "markdown",
      "source": [
        "## ◽ **Oversampling**"
      ],
      "metadata": {
        "id": "QgnYrPoY9rYo"
      }
    },
    {
      "cell_type": "code",
      "source": [
        "def UnderOverSampling(dados, under = 1, over = 1):\n",
        "    classe0 = dados[dados['Class'] == 0]\n",
        "    classe1 = dados[dados['Class'] == 1]  \n",
        "\n",
        "    amostra0 = classe0.sample(under * classe1.shape[0])\n",
        "    amostra1 = pd.concat([classe1] * over, ignore_index=True)\n",
        "    tudo = pd.concat([amostra0, amostra1])\n",
        "\n",
        "    return tudo"
      ],
      "metadata": {
        "id": "3rGo_ETpXQvp"
      },
      "execution_count": null,
      "outputs": []
    },
    {
      "cell_type": "code",
      "source": [
        "over1 = UnderOverSampling(dadosTreino, under = 90, over = 10)\n",
        "over1['Class'].value_counts()/over1.shape[0]"
      ],
      "metadata": {
        "colab": {
          "base_uri": "https://localhost:8080/"
        },
        "id": "daun95iZj9Z2",
        "outputId": "e993869e-821e-4241-edd1-3f26e90e371c"
      },
      "execution_count": null,
      "outputs": [
        {
          "output_type": "execute_result",
          "data": {
            "text/plain": [
              "0   0.90000\n",
              "1   0.10000\n",
              "Name: Class, dtype: float64"
            ]
          },
          "metadata": {},
          "execution_count": 226
        }
      ]
    },
    {
      "cell_type": "code",
      "source": [
        "o1 = Modelagem(over1, dadosTeste, 'OverSampling 10x 9:1', 10)"
      ],
      "metadata": {
        "colab": {
          "base_uri": "https://localhost:8080/"
        },
        "id": "ovdM3kE6j9fY",
        "outputId": "05b22559-e91a-47e3-a6b9-4d1b8865665b"
      },
      "execution_count": null,
      "outputs": [
        {
          "output_type": "stream",
          "name": "stdout",
          "text": [
            "              precision    recall  f1-score   support\n",
            "\n",
            "           0     0.9973    0.9996    0.9984     56731\n",
            "           1     0.7653    0.3247    0.4559       231\n",
            "\n",
            "    accuracy                         0.9969     56962\n",
            "  \n",
            "[[56708    23]\n",
            " [  156    75]]\n"
          ]
        }
      ]
    },
    {
      "cell_type": "code",
      "source": [
        "over2 = UnderOverSampling(dadosTreino, under = 75, over = 25)\n",
        "over2['Class'].value_counts()/over2.shape[0]"
      ],
      "metadata": {
        "colab": {
          "base_uri": "https://localhost:8080/"
        },
        "id": "u4543VggkKfr",
        "outputId": "95dff8fe-3d7c-4866-de69-c663795f39d5"
      },
      "execution_count": null,
      "outputs": [
        {
          "output_type": "execute_result",
          "data": {
            "text/plain": [
              "0   0.75000\n",
              "1   0.25000\n",
              "Name: Class, dtype: float64"
            ]
          },
          "metadata": {},
          "execution_count": 227
        }
      ]
    },
    {
      "cell_type": "code",
      "source": [
        "o2 = Modelagem(over2, dadosTeste, 'OverSampling 25x 3:1', 5)"
      ],
      "metadata": {
        "colab": {
          "base_uri": "https://localhost:8080/"
        },
        "id": "qhLTsHRhj9hu",
        "outputId": "7845af95-d33c-47e3-b6c6-c10b5fa1d510"
      },
      "execution_count": null,
      "outputs": [
        {
          "output_type": "stream",
          "name": "stdout",
          "text": [
            "              precision    recall  f1-score   support\n",
            "\n",
            "           0     0.9960    0.9997    0.9978     56654\n",
            "           1     0.8061    0.2565    0.3892       308\n",
            "\n",
            "    accuracy                         0.9956     56962\n",
            "  \n",
            "[[56635    19]\n",
            " [  229    79]]\n"
          ]
        }
      ]
    },
    {
      "cell_type": "code",
      "source": [
        "over3 = UnderOverSampling(dadosTreino, under = 50, over = 50)\n",
        "over3['Class'].value_counts()/over3.shape[0]"
      ],
      "metadata": {
        "colab": {
          "base_uri": "https://localhost:8080/"
        },
        "id": "sK0GjDRfj9c1",
        "outputId": "bd06d072-6333-48f1-b647-e1c99d03ba2f"
      },
      "execution_count": null,
      "outputs": [
        {
          "output_type": "execute_result",
          "data": {
            "text/plain": [
              "0   0.50000\n",
              "1   0.50000\n",
              "Name: Class, dtype: float64"
            ]
          },
          "metadata": {},
          "execution_count": 231
        }
      ]
    },
    {
      "cell_type": "code",
      "source": [
        "o3 = Modelagem(over3, dadosTeste, 'OverSampling 50x 1:1', 5)"
      ],
      "metadata": {
        "colab": {
          "base_uri": "https://localhost:8080/"
        },
        "id": "3Oi6okESj9kR",
        "outputId": "34a4457a-8851-46fd-a2cf-8d8e8aa44de6"
      },
      "execution_count": null,
      "outputs": [
        {
          "output_type": "stream",
          "name": "stdout",
          "text": [
            "              precision    recall  f1-score   support\n",
            "\n",
            "           0     0.9792    0.9997    0.9894     55699\n",
            "           1     0.8469    0.0657    0.1220      1263\n",
            "\n",
            "    accuracy                         0.9790     56962\n",
            "  \n",
            "[[55684    15]\n",
            " [ 1180    83]]\n"
          ]
        }
      ]
    },
    {
      "cell_type": "code",
      "source": [
        "over4 = UnderOverSampling(dadosTreino, under = 450, over = 50)\n",
        "over4['Class'].value_counts()/over4.shape[0]"
      ],
      "metadata": {
        "colab": {
          "base_uri": "https://localhost:8080/"
        },
        "id": "eUmCwmKnmdh1",
        "outputId": "ce323bea-abf7-47fd-f98c-ef737d591f59"
      },
      "execution_count": null,
      "outputs": [
        {
          "output_type": "execute_result",
          "data": {
            "text/plain": [
              "0   0.90000\n",
              "1   0.10000\n",
              "Name: Class, dtype: float64"
            ]
          },
          "metadata": {},
          "execution_count": 233
        }
      ]
    },
    {
      "cell_type": "code",
      "source": [
        "over4.shape[0]"
      ],
      "metadata": {
        "colab": {
          "base_uri": "https://localhost:8080/"
        },
        "id": "TuoV_6zWmrgE",
        "outputId": "2b3a4565-563b-4129-ff70-da474584d239"
      },
      "execution_count": null,
      "outputs": [
        {
          "output_type": "execute_result",
          "data": {
            "text/plain": [
              "197000"
            ]
          },
          "metadata": {},
          "execution_count": 234
        }
      ]
    },
    {
      "cell_type": "code",
      "source": [
        "o4 = Modelagem(over4, dadosTeste, 'OverSampling 50x 9:1', 5)"
      ],
      "metadata": {
        "colab": {
          "base_uri": "https://localhost:8080/"
        },
        "id": "GJaTqxvhmfZk",
        "outputId": "3b159bb3-2a94-4e02-d77e-9bc2d09be620"
      },
      "execution_count": null,
      "outputs": [
        {
          "output_type": "stream",
          "name": "stdout",
          "text": [
            "              precision    recall  f1-score   support\n",
            "\n",
            "           0     0.9994    0.9996    0.9995     56849\n",
            "           1     0.7857    0.6814    0.7299       113\n",
            "\n",
            "    accuracy                         0.9990     56962\n",
            "  \n",
            "[[56828    21]\n",
            " [   36    77]]\n"
          ]
        }
      ]
    },
    {
      "cell_type": "code",
      "source": [
        "o4"
      ],
      "metadata": {
        "colab": {
          "base_uri": "https://localhost:8080/"
        },
        "id": "O15MCiU6j9pK",
        "outputId": "eb27d007-f9a8-468a-d363-d9451d2f267b"
      },
      "execution_count": null,
      "outputs": [
        {
          "output_type": "execute_result",
          "data": {
            "text/plain": [
              "(                      Acurácia  Sensibilidade  Precisão  F1-Score     AUC\n",
              " OverSampling 50x 9:1   0.99900        0.68140   0.78570   0.72990 0.84050,\n",
              " RandomizedSearchCV(cv=RepeatedStratifiedKFold(n_repeats=1, n_splits=5, random_state=None),\n",
              "                    estimator=DecisionTreeClassifier(), n_iter=5, n_jobs=-1,\n",
              "                    param_distributions={'criterion': ['gini', 'entropy'],\n",
              "                                         'max_depth': [2, 3, 4, 5, 6, 7, 8, 9,\n",
              "                                                       10, 12],\n",
              "                                         'min_samples_split': [10, 20, 30, 40,\n",
              "                                                               50]},\n",
              "                    scoring='f1'))"
            ]
          },
          "metadata": {},
          "execution_count": 236
        }
      ]
    },
    {
      "cell_type": "code",
      "source": [
        "over5 = UnderOverSampling(dadosTreino, under = 475, over = 25)\n",
        "over5['Class'].value_counts()/over5.shape[0]"
      ],
      "metadata": {
        "colab": {
          "base_uri": "https://localhost:8080/"
        },
        "id": "3oYPVOyjp0TP",
        "outputId": "811c2230-5fb7-4709-b817-22d5fb642115"
      },
      "execution_count": null,
      "outputs": [
        {
          "output_type": "execute_result",
          "data": {
            "text/plain": [
              "0   0.95000\n",
              "1   0.05000\n",
              "Name: Class, dtype: float64"
            ]
          },
          "metadata": {},
          "execution_count": 237
        }
      ]
    },
    {
      "cell_type": "code",
      "source": [
        "o5 = Modelagem(over5, dadosTeste, 'OverSampling 25x 20:1', 5)"
      ],
      "metadata": {
        "colab": {
          "base_uri": "https://localhost:8080/"
        },
        "id": "6TiwE_dOqFm4",
        "outputId": "87c976b5-6bb5-4ceb-a2ec-55fa7346e4a0"
      },
      "execution_count": null,
      "outputs": [
        {
          "output_type": "stream",
          "name": "stdout",
          "text": [
            "              precision    recall  f1-score   support\n",
            "\n",
            "           0     0.9996    0.9996    0.9996     56861\n",
            "           1     0.7959    0.7723    0.7839       101\n",
            "\n",
            "    accuracy                         0.9992     56962\n",
            "  \n",
            "[[56841    20]\n",
            " [   23    78]]\n"
          ]
        }
      ]
    },
    {
      "cell_type": "code",
      "source": [
        "over6 = UnderOverSampling(dadosTreino, under = 490, over = 10)\n",
        "over6['Class'].value_counts()/over6.shape[0]"
      ],
      "metadata": {
        "colab": {
          "base_uri": "https://localhost:8080/"
        },
        "id": "KViU5jbhqNAC",
        "outputId": "d1dda834-0a3d-4ba0-8a31-5262832ea2c9"
      },
      "execution_count": null,
      "outputs": [
        {
          "output_type": "execute_result",
          "data": {
            "text/plain": [
              "0   0.98000\n",
              "1   0.02000\n",
              "Name: Class, dtype: float64"
            ]
          },
          "metadata": {},
          "execution_count": 239
        }
      ]
    },
    {
      "cell_type": "code",
      "source": [
        "o6 = Modelagem(over6, dadosTeste, 'OverSampling 10x 50:1', 5)"
      ],
      "metadata": {
        "colab": {
          "base_uri": "https://localhost:8080/"
        },
        "id": "g1u86Ng1qvxX",
        "outputId": "f634ee7b-d21d-47f5-e23d-2f945d88879f"
      },
      "execution_count": null,
      "outputs": [
        {
          "output_type": "stream",
          "name": "stdout",
          "text": [
            "              precision    recall  f1-score   support\n",
            "\n",
            "           0     0.9993    0.9996    0.9994     56845\n",
            "           1     0.7755    0.6496    0.7070       117\n",
            "\n",
            "    accuracy                         0.9989     56962\n",
            "  \n",
            "[[56823    22]\n",
            " [   41    76]]\n"
          ]
        }
      ]
    },
    {
      "cell_type": "code",
      "source": [
        "pd.concat([arvore[0], u1[0], u2[0], u3[0], u4[0], o1[0], o2[0], o3[0], o4[0], o5[0], o6[0]])"
      ],
      "metadata": {
        "colab": {
          "base_uri": "https://localhost:8080/",
          "height": 394
        },
        "id": "9DhUx4KumPsy",
        "outputId": "f434d9c5-9f42-472c-da79-272bd1eeb7a1"
      },
      "execution_count": null,
      "outputs": [
        {
          "output_type": "execute_result",
          "data": {
            "text/plain": [
              "                       Acurácia  Sensibilidade  Precisão  F1-Score     AUC\n",
              "Árvore Simples          0.99950        0.93510   0.73470   0.82290 0.96730\n",
              "UnderSampling 1:1       0.97770        0.06270   0.85710   0.11680 0.53120\n",
              "UnderSampling 3:1       0.95930        0.03400   0.82650   0.06520 0.51680\n",
              "UnderSampling 9:1       0.99660        0.30520   0.77550   0.43800 0.65240\n",
              "UnderSampling 99:1      0.99890        0.65520   0.77550   0.71030 0.82740\n",
              "OverSampling 10x 9:1    0.99690        0.32470   0.76530   0.45590 0.66210\n",
              "OverSampling 25x 3:1    0.99560        0.25650   0.80610   0.38920 0.62810\n",
              "OverSampling 50x 1:1    0.97900        0.06570   0.84690   0.12200 0.53270\n",
              "OverSampling 50x 9:1    0.99900        0.68140   0.78570   0.72990 0.84050\n",
              "OverSampling 25x 20:1   0.99920        0.77230   0.79590   0.78390 0.88600\n",
              "OverSampling 10x 50:1   0.99890        0.64960   0.77550   0.70700 0.82460"
            ],
            "text/html": [
              "\n",
              "  <div id=\"df-5fad59fc-dbdb-47f4-b34f-176b3e157169\">\n",
              "    <div class=\"colab-df-container\">\n",
              "      <div>\n",
              "<style scoped>\n",
              "    .dataframe tbody tr th:only-of-type {\n",
              "        vertical-align: middle;\n",
              "    }\n",
              "\n",
              "    .dataframe tbody tr th {\n",
              "        vertical-align: top;\n",
              "    }\n",
              "\n",
              "    .dataframe thead th {\n",
              "        text-align: right;\n",
              "    }\n",
              "</style>\n",
              "<table border=\"1\" class=\"dataframe\">\n",
              "  <thead>\n",
              "    <tr style=\"text-align: right;\">\n",
              "      <th></th>\n",
              "      <th>Acurácia</th>\n",
              "      <th>Sensibilidade</th>\n",
              "      <th>Precisão</th>\n",
              "      <th>F1-Score</th>\n",
              "      <th>AUC</th>\n",
              "    </tr>\n",
              "  </thead>\n",
              "  <tbody>\n",
              "    <tr>\n",
              "      <th>Árvore Simples</th>\n",
              "      <td>0.99950</td>\n",
              "      <td>0.93510</td>\n",
              "      <td>0.73470</td>\n",
              "      <td>0.82290</td>\n",
              "      <td>0.96730</td>\n",
              "    </tr>\n",
              "    <tr>\n",
              "      <th>UnderSampling 1:1</th>\n",
              "      <td>0.97770</td>\n",
              "      <td>0.06270</td>\n",
              "      <td>0.85710</td>\n",
              "      <td>0.11680</td>\n",
              "      <td>0.53120</td>\n",
              "    </tr>\n",
              "    <tr>\n",
              "      <th>UnderSampling 3:1</th>\n",
              "      <td>0.95930</td>\n",
              "      <td>0.03400</td>\n",
              "      <td>0.82650</td>\n",
              "      <td>0.06520</td>\n",
              "      <td>0.51680</td>\n",
              "    </tr>\n",
              "    <tr>\n",
              "      <th>UnderSampling 9:1</th>\n",
              "      <td>0.99660</td>\n",
              "      <td>0.30520</td>\n",
              "      <td>0.77550</td>\n",
              "      <td>0.43800</td>\n",
              "      <td>0.65240</td>\n",
              "    </tr>\n",
              "    <tr>\n",
              "      <th>UnderSampling 99:1</th>\n",
              "      <td>0.99890</td>\n",
              "      <td>0.65520</td>\n",
              "      <td>0.77550</td>\n",
              "      <td>0.71030</td>\n",
              "      <td>0.82740</td>\n",
              "    </tr>\n",
              "    <tr>\n",
              "      <th>OverSampling 10x 9:1</th>\n",
              "      <td>0.99690</td>\n",
              "      <td>0.32470</td>\n",
              "      <td>0.76530</td>\n",
              "      <td>0.45590</td>\n",
              "      <td>0.66210</td>\n",
              "    </tr>\n",
              "    <tr>\n",
              "      <th>OverSampling 25x 3:1</th>\n",
              "      <td>0.99560</td>\n",
              "      <td>0.25650</td>\n",
              "      <td>0.80610</td>\n",
              "      <td>0.38920</td>\n",
              "      <td>0.62810</td>\n",
              "    </tr>\n",
              "    <tr>\n",
              "      <th>OverSampling 50x 1:1</th>\n",
              "      <td>0.97900</td>\n",
              "      <td>0.06570</td>\n",
              "      <td>0.84690</td>\n",
              "      <td>0.12200</td>\n",
              "      <td>0.53270</td>\n",
              "    </tr>\n",
              "    <tr>\n",
              "      <th>OverSampling 50x 9:1</th>\n",
              "      <td>0.99900</td>\n",
              "      <td>0.68140</td>\n",
              "      <td>0.78570</td>\n",
              "      <td>0.72990</td>\n",
              "      <td>0.84050</td>\n",
              "    </tr>\n",
              "    <tr>\n",
              "      <th>OverSampling 25x 20:1</th>\n",
              "      <td>0.99920</td>\n",
              "      <td>0.77230</td>\n",
              "      <td>0.79590</td>\n",
              "      <td>0.78390</td>\n",
              "      <td>0.88600</td>\n",
              "    </tr>\n",
              "    <tr>\n",
              "      <th>OverSampling 10x 50:1</th>\n",
              "      <td>0.99890</td>\n",
              "      <td>0.64960</td>\n",
              "      <td>0.77550</td>\n",
              "      <td>0.70700</td>\n",
              "      <td>0.82460</td>\n",
              "    </tr>\n",
              "  </tbody>\n",
              "</table>\n",
              "</div>\n",
              "      <button class=\"colab-df-convert\" onclick=\"convertToInteractive('df-5fad59fc-dbdb-47f4-b34f-176b3e157169')\"\n",
              "              title=\"Convert this dataframe to an interactive table.\"\n",
              "              style=\"display:none;\">\n",
              "        \n",
              "  <svg xmlns=\"http://www.w3.org/2000/svg\" height=\"24px\"viewBox=\"0 0 24 24\"\n",
              "       width=\"24px\">\n",
              "    <path d=\"M0 0h24v24H0V0z\" fill=\"none\"/>\n",
              "    <path d=\"M18.56 5.44l.94 2.06.94-2.06 2.06-.94-2.06-.94-.94-2.06-.94 2.06-2.06.94zm-11 1L8.5 8.5l.94-2.06 2.06-.94-2.06-.94L8.5 2.5l-.94 2.06-2.06.94zm10 10l.94 2.06.94-2.06 2.06-.94-2.06-.94-.94-2.06-.94 2.06-2.06.94z\"/><path d=\"M17.41 7.96l-1.37-1.37c-.4-.4-.92-.59-1.43-.59-.52 0-1.04.2-1.43.59L10.3 9.45l-7.72 7.72c-.78.78-.78 2.05 0 2.83L4 21.41c.39.39.9.59 1.41.59.51 0 1.02-.2 1.41-.59l7.78-7.78 2.81-2.81c.8-.78.8-2.07 0-2.86zM5.41 20L4 18.59l7.72-7.72 1.47 1.35L5.41 20z\"/>\n",
              "  </svg>\n",
              "      </button>\n",
              "      \n",
              "  <style>\n",
              "    .colab-df-container {\n",
              "      display:flex;\n",
              "      flex-wrap:wrap;\n",
              "      gap: 12px;\n",
              "    }\n",
              "\n",
              "    .colab-df-convert {\n",
              "      background-color: #E8F0FE;\n",
              "      border: none;\n",
              "      border-radius: 50%;\n",
              "      cursor: pointer;\n",
              "      display: none;\n",
              "      fill: #1967D2;\n",
              "      height: 32px;\n",
              "      padding: 0 0 0 0;\n",
              "      width: 32px;\n",
              "    }\n",
              "\n",
              "    .colab-df-convert:hover {\n",
              "      background-color: #E2EBFA;\n",
              "      box-shadow: 0px 1px 2px rgba(60, 64, 67, 0.3), 0px 1px 3px 1px rgba(60, 64, 67, 0.15);\n",
              "      fill: #174EA6;\n",
              "    }\n",
              "\n",
              "    [theme=dark] .colab-df-convert {\n",
              "      background-color: #3B4455;\n",
              "      fill: #D2E3FC;\n",
              "    }\n",
              "\n",
              "    [theme=dark] .colab-df-convert:hover {\n",
              "      background-color: #434B5C;\n",
              "      box-shadow: 0px 1px 3px 1px rgba(0, 0, 0, 0.15);\n",
              "      filter: drop-shadow(0px 1px 2px rgba(0, 0, 0, 0.3));\n",
              "      fill: #FFFFFF;\n",
              "    }\n",
              "  </style>\n",
              "\n",
              "      <script>\n",
              "        const buttonEl =\n",
              "          document.querySelector('#df-5fad59fc-dbdb-47f4-b34f-176b3e157169 button.colab-df-convert');\n",
              "        buttonEl.style.display =\n",
              "          google.colab.kernel.accessAllowed ? 'block' : 'none';\n",
              "\n",
              "        async function convertToInteractive(key) {\n",
              "          const element = document.querySelector('#df-5fad59fc-dbdb-47f4-b34f-176b3e157169');\n",
              "          const dataTable =\n",
              "            await google.colab.kernel.invokeFunction('convertToInteractive',\n",
              "                                                     [key], {});\n",
              "          if (!dataTable) return;\n",
              "\n",
              "          const docLinkHtml = 'Like what you see? Visit the ' +\n",
              "            '<a target=\"_blank\" href=https://colab.research.google.com/notebooks/data_table.ipynb>data table notebook</a>'\n",
              "            + ' to learn more about interactive tables.';\n",
              "          element.innerHTML = '';\n",
              "          dataTable['output_type'] = 'display_data';\n",
              "          await google.colab.output.renderOutput(dataTable, element);\n",
              "          const docLink = document.createElement('div');\n",
              "          docLink.innerHTML = docLinkHtml;\n",
              "          element.appendChild(docLink);\n",
              "        }\n",
              "      </script>\n",
              "    </div>\n",
              "  </div>\n",
              "  "
            ]
          },
          "metadata": {},
          "execution_count": 247
        }
      ]
    },
    {
      "cell_type": "markdown",
      "source": [
        "## ◽ **Ajuste do Ponto de Corte**"
      ],
      "metadata": {
        "id": "htCjOSVWsnCX"
      }
    },
    {
      "cell_type": "code",
      "source": [
        "from sklearn.metrics import precision_recall_curve \n",
        "propensoes = arvore[1].predict_proba(Xteste)[:,1]\n",
        "\n",
        "precision, recall, thresholds = precision_recall_curve(yteste, propensoes)"
      ],
      "metadata": {
        "id": "yWidA-fxv6tl"
      },
      "execution_count": null,
      "outputs": []
    },
    {
      "cell_type": "code",
      "source": [
        "from sklearn.metrics import PrecisionRecallDisplay \n",
        "PrecisionRecallDisplay.from_predictions(yteste, propensoes)\n",
        "plt.show()"
      ],
      "metadata": {
        "colab": {
          "base_uri": "https://localhost:8080/",
          "height": 379
        },
        "id": "P3gSvlLcxR3Y",
        "outputId": "f9fbcf97-80f9-4fd9-e1bf-fd56c69caf4a"
      },
      "execution_count": null,
      "outputs": [
        {
          "output_type": "display_data",
          "data": {
            "text/plain": [
              "<Figure size 600x400 with 1 Axes>"
            ],
            "image/png": "[encoded data removed]"
          },
          "metadata": {}
        }
      ]
    },
    {
      "cell_type": "code",
      "source": [
        "#custos\n",
        "s = 1\n",
        "p = 2\n",
        "\n",
        "aux = pd.DataFrame({ 'Sensibilidade': recall[1:], 'Precisao': precision[1:], 'Corte': thresholds })\n",
        "aux['Custo'] = (p*aux['Precisao'] + s*aux['Sensibilidade'])/(p+s)\n",
        "aux.sort_values(by = 'Custo', ascending = False)"
      ],
      "metadata": {
        "colab": {
          "base_uri": "https://localhost:8080/",
          "height": 457
        },
        "id": "BJunzeVUw6ro",
        "outputId": "7b37fd15-1737-47a8-a45b-c2fd1c272873"
      },
      "execution_count": null,
      "outputs": [
        {
          "output_type": "execute_result",
          "data": {
            "text/plain": [
              "    Sensibilidade  Precisao   Corte   Custo\n",
              "10        0.72449   0.97260 0.80000 0.88990\n",
              "9         0.73469   0.96000 0.77778 0.88490\n",
              "7         0.75510   0.93671 0.44444 0.87617\n",
              "6         0.75510   0.92500 0.25000 0.86837\n",
              "8         0.73469   0.93506 0.50000 0.86827\n",
              "5         0.76531   0.91463 0.14286 0.86486\n",
              "4         0.76531   0.87209 0.01972 0.83650\n",
              "11        0.23469   1.00000 0.98895 0.74490\n",
              "12        0.00000   1.00000 1.00000 0.66667\n",
              "3         0.79592   0.33766 0.00293 0.49041\n",
              "2         0.80612   0.12006 0.00124 0.34875\n",
              "0         0.94898   0.00163 0.00000 0.31742\n",
              "1         0.83673   0.02365 0.00013 0.29468"
            ],
            "text/html": [
              "\n",
              "  <div id=\"df-0d31e76c-7b42-4a08-8db8-c852867b083e\">\n",
              "    <div class=\"colab-df-container\">\n",
              "      <div>\n",
              "<style scoped>\n",
              "    .dataframe tbody tr th:only-of-type {\n",
              "        vertical-align: middle;\n",
              "    }\n",
              "\n",
              "    .dataframe tbody tr th {\n",
              "        vertical-align: top;\n",
              "    }\n",
              "\n",
              "    .dataframe thead th {\n",
              "        text-align: right;\n",
              "    }\n",
              "</style>\n",
              "<table border=\"1\" class=\"dataframe\">\n",
              "  <thead>\n",
              "    <tr style=\"text-align: right;\">\n",
              "      <th></th>\n",
              "      <th>Sensibilidade</th>\n",
              "      <th>Precisao</th>\n",
              "      <th>Corte</th>\n",
              "      <th>Custo</th>\n",
              "    </tr>\n",
              "  </thead>\n",
              "  <tbody>\n",
              "    <tr>\n",
              "      <th>10</th>\n",
              "      <td>0.72449</td>\n",
              "      <td>0.97260</td>\n",
              "      <td>0.80000</td>\n",
              "      <td>0.88990</td>\n",
              "    </tr>\n",
              "    <tr>\n",
              "      <th>9</th>\n",
              "      <td>0.73469</td>\n",
              "      <td>0.96000</td>\n",
              "      <td>0.77778</td>\n",
              "      <td>0.88490</td>\n",
              "    </tr>\n",
              "    <tr>\n",
              "      <th>7</th>\n",
              "      <td>0.75510</td>\n",
              "      <td>0.93671</td>\n",
              "      <td>0.44444</td>\n",
              "      <td>0.87617</td>\n",
              "    </tr>\n",
              "    <tr>\n",
              "      <th>6</th>\n",
              "      <td>0.75510</td>\n",
              "      <td>0.92500</td>\n",
              "      <td>0.25000</td>\n",
              "      <td>0.86837</td>\n",
              "    </tr>\n",
              "    <tr>\n",
              "      <th>8</th>\n",
              "      <td>0.73469</td>\n",
              "      <td>0.93506</td>\n",
              "      <td>0.50000</td>\n",
              "      <td>0.86827</td>\n",
              "    </tr>\n",
              "    <tr>\n",
              "      <th>5</th>\n",
              "      <td>0.76531</td>\n",
              "      <td>0.91463</td>\n",
              "      <td>0.14286</td>\n",
              "      <td>0.86486</td>\n",
              "    </tr>\n",
              "    <tr>\n",
              "      <th>4</th>\n",
              "      <td>0.76531</td>\n",
              "      <td>0.87209</td>\n",
              "      <td>0.01972</td>\n",
              "      <td>0.83650</td>\n",
              "    </tr>\n",
              "    <tr>\n",
              "      <th>11</th>\n",
              "      <td>0.23469</td>\n",
              "      <td>1.00000</td>\n",
              "      <td>0.98895</td>\n",
              "      <td>0.74490</td>\n",
              "    </tr>\n",
              "    <tr>\n",
              "      <th>12</th>\n",
              "      <td>0.00000</td>\n",
              "      <td>1.00000</td>\n",
              "      <td>1.00000</td>\n",
              "      <td>0.66667</td>\n",
              "    </tr>\n",
              "    <tr>\n",
              "      <th>3</th>\n",
              "      <td>0.79592</td>\n",
              "      <td>0.33766</td>\n",
              "      <td>0.00293</td>\n",
              "      <td>0.49041</td>\n",
              "    </tr>\n",
              "    <tr>\n",
              "      <th>2</th>\n",
              "      <td>0.80612</td>\n",
              "      <td>0.12006</td>\n",
              "      <td>0.00124</td>\n",
              "      <td>0.34875</td>\n",
              "    </tr>\n",
              "    <tr>\n",
              "      <th>0</th>\n",
              "      <td>0.94898</td>\n",
              "      <td>0.00163</td>\n",
              "      <td>0.00000</td>\n",
              "      <td>0.31742</td>\n",
              "    </tr>\n",
              "    <tr>\n",
              "      <th>1</th>\n",
              "      <td>0.83673</td>\n",
              "      <td>0.02365</td>\n",
              "      <td>0.00013</td>\n",
              "      <td>0.29468</td>\n",
              "    </tr>\n",
              "  </tbody>\n",
              "</table>\n",
              "</div>\n",
              "      <button class=\"colab-df-convert\" onclick=\"convertToInteractive('df-0d31e76c-7b42-4a08-8db8-c852867b083e')\"\n",
              "              title=\"Convert this dataframe to an interactive table.\"\n",
              "              style=\"display:none;\">\n",
              "        \n",
              "  <svg xmlns=\"http://www.w3.org/2000/svg\" height=\"24px\"viewBox=\"0 0 24 24\"\n",
              "       width=\"24px\">\n",
              "    <path d=\"M0 0h24v24H0V0z\" fill=\"none\"/>\n",
              "    <path d=\"M18.56 5.44l.94 2.06.94-2.06 2.06-.94-2.06-.94-.94-2.06-.94 2.06-2.06.94zm-11 1L8.5 8.5l.94-2.06 2.06-.94-2.06-.94L8.5 2.5l-.94 2.06-2.06.94zm10 10l.94 2.06.94-2.06 2.06-.94-2.06-.94-.94-2.06-.94 2.06-2.06.94z\"/><path d=\"M17.41 7.96l-1.37-1.37c-.4-.4-.92-.59-1.43-.59-.52 0-1.04.2-1.43.59L10.3 9.45l-7.72 7.72c-.78.78-.78 2.05 0 2.83L4 21.41c.39.39.9.59 1.41.59.51 0 1.02-.2 1.41-.59l7.78-7.78 2.81-2.81c.8-.78.8-2.07 0-2.86zM5.41 20L4 18.59l7.72-7.72 1.47 1.35L5.41 20z\"/>\n",
              "  </svg>\n",
              "      </button>\n",
              "      \n",
              "  <style>\n",
              "    .colab-df-container {\n",
              "      display:flex;\n",
              "      flex-wrap:wrap;\n",
              "      gap: 12px;\n",
              "    }\n",
              "\n",
              "    .colab-df-convert {\n",
              "      background-color: #E8F0FE;\n",
              "      border: none;\n",
              "      border-radius: 50%;\n",
              "      cursor: pointer;\n",
              "      display: none;\n",
              "      fill: #1967D2;\n",
              "      height: 32px;\n",
              "      padding: 0 0 0 0;\n",
              "      width: 32px;\n",
              "    }\n",
              "\n",
              "    .colab-df-convert:hover {\n",
              "      background-color: #E2EBFA;\n",
              "      box-shadow: 0px 1px 2px rgba(60, 64, 67, 0.3), 0px 1px 3px 1px rgba(60, 64, 67, 0.15);\n",
              "      fill: #174EA6;\n",
              "    }\n",
              "\n",
              "    [theme=dark] .colab-df-convert {\n",
              "      background-color: #3B4455;\n",
              "      fill: #D2E3FC;\n",
              "    }\n",
              "\n",
              "    [theme=dark] .colab-df-convert:hover {\n",
              "      background-color: #434B5C;\n",
              "      box-shadow: 0px 1px 3px 1px rgba(0, 0, 0, 0.15);\n",
              "      filter: drop-shadow(0px 1px 2px rgba(0, 0, 0, 0.3));\n",
              "      fill: #FFFFFF;\n",
              "    }\n",
              "  </style>\n",
              "\n",
              "      <script>\n",
              "        const buttonEl =\n",
              "          document.querySelector('#df-0d31e76c-7b42-4a08-8db8-c852867b083e button.colab-df-convert');\n",
              "        buttonEl.style.display =\n",
              "          google.colab.kernel.accessAllowed ? 'block' : 'none';\n",
              "\n",
              "        async function convertToInteractive(key) {\n",
              "          const element = document.querySelector('#df-0d31e76c-7b42-4a08-8db8-c852867b083e');\n",
              "          const dataTable =\n",
              "            await google.colab.kernel.invokeFunction('convertToInteractive',\n",
              "                                                     [key], {});\n",
              "          if (!dataTable) return;\n",
              "\n",
              "          const docLinkHtml = 'Like what you see? Visit the ' +\n",
              "            '<a target=\"_blank\" href=https://colab.research.google.com/notebooks/data_table.ipynb>data table notebook</a>'\n",
              "            + ' to learn more about interactive tables.';\n",
              "          element.innerHTML = '';\n",
              "          dataTable['output_type'] = 'display_data';\n",
              "          await google.colab.output.renderOutput(dataTable, element);\n",
              "          const docLink = document.createElement('div');\n",
              "          docLink.innerHTML = docLinkHtml;\n",
              "          element.appendChild(docLink);\n",
              "        }\n",
              "      </script>\n",
              "    </div>\n",
              "  </div>\n",
              "  "
            ]
          },
          "metadata": {},
          "execution_count": 250
        }
      ]
    },
    {
      "cell_type": "markdown",
      "metadata": {
        "id": "E-zz-N8cvRgm"
      },
      "source": [
        "---\n",
        "# ◾ **Etapa 5. Considerações Finais**"
      ]
    },
    {
      "cell_type": "markdown",
      "source": [
        "## ◽ **Conclusões** \n",
        "- Consertar o problema de desbalanceamento não é fácil!\n",
        "- As abordagens apresentadas oferecem modelos diferentes, mas não necessariamente melhores. \n",
        "- A análise do ponto de corte pode melhorar bastante os resultados obtidos, permitindo uma escolha mais adequada para o contexto de negócios. "
      ],
      "metadata": {
        "id": "yEJ3I9VlvRgm"
      }
    }
  ]
}